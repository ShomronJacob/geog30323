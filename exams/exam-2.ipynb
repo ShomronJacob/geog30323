{
 "cells": [
  {
   "cell_type": "markdown",
   "metadata": {},
   "source": [
    "## Geography 30323: Take-home exam #2\n",
    "\n",
    "This second take home exam will continue to evaluate your skills in using Python for data analysis, with a focus on data wrangling and data visualization.  \n",
    "\n",
    "The examination consists of a series of structured and semi-structured questions that you will answer with data analysis. In this examination, you will answer a series of questions which pertain to two different datasets I've provided for you. There is a total possible score of 100; your scores will then be weighted as this take-home examination constitutes 15 percent of your overall course grade.\n",
    "\n",
    "Your responses to the following questions should consist of the following components:\n",
    "\n",
    "1. The code used to answer the question, and any results you've produced;\n",
    "2. Visualizations, when appropriate;\n",
    "3. A short write-up in Markdown explaining what you did, and analyzing/interpreting your results when appropriate.\n",
    "\n",
    "Responses that receive 80% credit and up will show evidence of effort beyond the minimum necessary to answer the question. This could include but is not limited to noticeable thoughtfulness in the interpretation of the data; responses that blend computation, visualization, and description quite well; or evidence of going beyond the basic parameters of the assignment.\n",
    "\n",
    "This examination should be completed in this Jupyter Notebook, like your weekly assignments. It is due by the end of the day on __Tuesday, November 24__ for full credit, and will incur a 10 percent penalty (equivalent to 1.5 percent of your overall grade for the semester!) for each day it is submitted past the deadline.\n",
    "\n",
    "This exam is more open-ended than Exam 1 - so take care with your responses!"
   ]
  },
  {
   "cell_type": "markdown",
   "metadata": {},
   "source": [
    "### Part I: More with baby names!\n",
    "\n",
    "In Assignment 9, you got practice working with the `babynames` dataset derived from the Social Security Administration.  In the first part of this take-home examination, you are going to extend your work in that assignment to answer a series of questions.  As a reminder: the dataset is available from the following URL: http://personal.tcu.edu/kylewalker/data/babynames.csv.  \n",
    "\n",
    "__Question 1 (10 points):__ What were the ten most popular female baby names in the United States during the 1960s?  How did their popularity vary throughout the decade?  "
   ]
  },
  {
   "cell_type": "code",
   "execution_count": null,
   "metadata": {
    "collapsed": true
   },
   "outputs": [],
   "source": []
  },
  {
   "cell_type": "markdown",
   "metadata": {},
   "source": [
    "__Question 2 (10 points):__ For each decade since 1950, what were the most popular (the number one) male and female baby names?  "
   ]
  },
  {
   "cell_type": "code",
   "execution_count": null,
   "metadata": {
    "collapsed": true
   },
   "outputs": [],
   "source": []
  },
  {
   "cell_type": "markdown",
   "metadata": {},
   "source": [
    "__Question 3 (10 points):__ Choose one name - male or female - and trace its popularity since 1880.  When did the name you've chosen \"peak\" in popularity?  What trends over time do you observe in its popularity?  "
   ]
  },
  {
   "cell_type": "code",
   "execution_count": null,
   "metadata": {
    "collapsed": true
   },
   "outputs": [],
   "source": []
  },
  {
   "cell_type": "markdown",
   "metadata": {},
   "source": [
    "__Question 4 (20 points):__  Certain names wax and wane in popularity over time; for example, some names that were very popular in the early 1900s are rarely seen today.  However, some names have had remarkable staying power over time.  Design an analysis to identify those names that have been the most consistently popular throughout the dataset.  "
   ]
  },
  {
   "cell_type": "code",
   "execution_count": null,
   "metadata": {
    "collapsed": true
   },
   "outputs": [],
   "source": []
  },
  {
   "cell_type": "markdown",
   "metadata": {},
   "source": [
    "### Part II: The Ebola epidemic of 2014-2015\n",
    "\n",
    "In the second part of this exam, you'll be analyzing data regarding the 2014 Ebola outbreak in West Africa.  You may already be familiar with some of the details; however, it might be useful for you to familiarize yourselves with the epidemic from the following links: \n",
    "\n",
    "* Wikipedia: https://en.wikipedia.org/wiki/Ebola_virus_epidemic_in_West_Africa\n",
    "* CDC: http://www.cdc.gov/vhf/ebola/outbreaks/2014-west-africa/\n",
    "* World Health Organization: http://www.who.int/csr/disease/ebola/en/\n",
    "\n",
    "You'll be working with a dataset compiled from WHO data on the Ebola outbreak and made available via the Humanitarian Data Exchange (https://data.hdx.rwlabs.org/).  The dataset itself comes from the following page: https://data.hdx.rwlabs.org/dataset/ebola-cases-2014 and has four columns: \n",
    "\n",
    "* `Indicator`: The type of information represented by the row, in regards to the Ebola outbreak.  __A note:__ not every indicator is represented for every country at every date in the dataset.   \n",
    "* `Country`: The country corresponding to the row; \n",
    "* `Date`: The date corresponding to the record, in YYYY-MM-DD format; \n",
    "* `value`: The number of cases represented by the record.  \n",
    "\n",
    "I'll give you a little help reading in the file.  While it is fairly straightforward, you are going to use a new parameter in `pd.read_csv()`, `parse_dates`, to tell `pandas` to automatically recognize the values in the `Date` field as dates.  Run the cell below to get started and generate a new data frame named `df`.  "
   ]
  },
  {
   "cell_type": "code",
   "execution_count": null,
   "metadata": {
    "collapsed": true
   },
   "outputs": [],
   "source": [
    "import pandas as pd\n",
    "\n",
    "ebola_data = 'https://ds-ec2.scraperwiki.com/g7nnqgn/ckm9nsfssakeuor/cgi-bin/csv/ebola_data_db_format.csv'\n",
    "\n",
    "df = pd.read_csv(ebola_data, parse_dates = ['Date'])"
   ]
  },
  {
   "cell_type": "markdown",
   "metadata": {},
   "source": [
    "Certainly, there is ample information about the Ebola outbreak online, including data analyses and visualizations.  You are welcome to use those visualizations and that information to inspire your responses.  However, your responses themselves must be generated by you in Python with replicable Python code.  \n",
    "\n",
    "Take care with your responses.  As mentioned above, not all indicators are available for every country at each date.  Further, some indicators are only measured at specific time intervals.  Also: make sure you understand what the different indicators represent before performing operations with them or using them in an analysis.  \n",
    "\n",
    "__Question 5 (10 points):__  Explain the basic parameters of the dataset.  What \"shape\" is the dataset in?  What information is contained in the dataset?  What does each row of the dataset represent?  "
   ]
  },
  {
   "cell_type": "code",
   "execution_count": null,
   "metadata": {
    "collapsed": true
   },
   "outputs": [],
   "source": []
  },
  {
   "cell_type": "markdown",
   "metadata": {
    "collapsed": true
   },
   "source": [
    "__Question 6 (20 points): __  Describe the overall global characteristics of the Ebola epidemic, using the information available to you in the dataset.  Questions you could address include: How many people have been infected during the epidemic?  How many people have died?  Globally, when did the epidemic \"peak\"?  Pursue any other analyses you feel would be interesting and relevant to this question.  "
   ]
  },
  {
   "cell_type": "code",
   "execution_count": null,
   "metadata": {
    "collapsed": true
   },
   "outputs": [],
   "source": []
  },
  {
   "cell_type": "markdown",
   "metadata": {},
   "source": [
    "__Question 7 (20 points): __  Focus in this question on the three countries most impacted by the Ebola outbreak: Guinea, Sierra Leone, and Liberia.  ___Please note: ___ rows with a `Country` value of `'Liberia 2'` represent Ebola cases in Liberia after Liberia was declared Ebola-free in May of 2015.  \n",
    "\n",
    "Your job is to conduct a comparative analysis of the Ebola outbreak in these three countries.  The parameters of your response are up to you; however, you might consider looking at how the scale of the outbreak has varied between the countries; when the epidemic appears to have \"peaked\" in each country; and how cumulative and new cases in the three countries have varied over time.  "
   ]
  },
  {
   "cell_type": "code",
   "execution_count": null,
   "metadata": {
    "collapsed": true
   },
   "outputs": [],
   "source": []
  },
  {
   "cell_type": "code",
   "execution_count": null,
   "metadata": {
    "collapsed": true
   },
   "outputs": [],
   "source": []
  }
 ],
 "metadata": {
  "kernelspec": {
   "display_name": "Python 3",
   "language": "python",
   "name": "python3"
  },
  "language_info": {
   "codemirror_mode": {
    "name": "ipython",
    "version": 3
   },
   "file_extension": ".py",
   "mimetype": "text/x-python",
   "name": "python",
   "nbconvert_exporter": "python",
   "pygments_lexer": "ipython3",
   "version": "3.4.3"
  }
 },
 "nbformat": 4,
 "nbformat_minor": 0
}
