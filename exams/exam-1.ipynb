{
 "cells": [
  {
   "cell_type": "markdown",
   "metadata": {},
   "source": [
    "## Take-home exam #1\n",
    "\n",
    "You're starting to get the hang of working with data in Python; now, it's time to put those skills to the test.  This is your first of three take-home examinations this semester, which are designed to evaluate your grasp of the concepts and techniques you're learning in this course.  \n",
    "\n",
    "The take-home examinations will consist of a series of structured and semi-structured questions that you will answer with data analysis.  In this examination, you will answer __ten questions__ which pertain to two different datasets I've provided for you.  Each question will be worth __ten points__, giving a total possible score of 100; your scores will then be weighted as this take-home examination constitutes __15 percent__ of your overall course grade.  \n",
    "\n",
    "Your responses to the following questions should consist of the following components: \n",
    "\n",
    "1. The code used to answer the question, and any results you've produced; \n",
    "2. Visualizations, when appropriate; \n",
    "3. A short write-up in Markdown explaining what you did, and analyzing/interpreting your results when appropriate.  \n",
    "\n",
    "Responses to the questions that are \"correct\" will receive at least 7 out of the possible 10 points.  Responses that receive 8, 9, or 10 points will show evidence of effort beyond the minimum necessary to answer the question.  This could include but is not limited to noticeable thoughtfulness in the interpretation of the data; responses that blend computation, visualization, and description quite well; or evidence of going beyond the basic parameters of the assignment.  \n",
    "\n",
    "This examination should be completed in this Jupyter Notebook, like your weekly assignments.  It is due by the end of the day on __Sunday, October 18__ for full credit, and will incur a 10 percent penalty (which is equivalent to one question!) for each day it is submitted past the deadline.  "
   ]
  },
  {
   "cell_type": "markdown",
   "metadata": {},
   "source": [
    "### Part I: Large colleges/universities in Texas\n",
    "\n",
    "The first five questions of this take-home exam will employ data from the U.S. Department of Education's College Scorecard, https://collegescorecard.ed.gov/.  The College Scorecard includes hundreds of indicators about U.S. colleges and universities; however, you'll only be working with a few here.  I've trimmed down the data so that it includes the largest Bachelor's degree granting universities in the state of Texas - specifically, those with an undergraduate enrollment of 3500 or more.  \n",
    "\n",
    "The data are available from this link: http://personal.tcu.edu/kylewalker/data/texas_colleges.csv.  The columns in the dataset are as follows: \n",
    "\n",
    "* `instnm`: Institution name\n",
    "* `city`: City the institution is located in\n",
    "* `sat_avg`: The average combined SAT score (math + verbal) of admitted students\n",
    "* `ugds`: The number of undergraduates enrolled at the institution\n",
    "* `pctfloan`: The percentage of students receiving federal loans\n",
    "* `grad_rate`: The percentage of entering freshman who graduate within 6 years\n",
    "* `median_earn`: The median earnings of graduates 10 years after graduation\n",
    "\n",
    "You'll be analyzing the data for patterns and trends.  The dataset is fairly small - but don't be tempted to just do some of the work in Excel.  You must show how you answered the question in Python to receive credit for your responses.  \n",
    "\n",
    "---\n",
    "\n",
    "__Question 1:__ Describe the distribution of six-year graduation rates among large universities in Texas.  Which universities have the highest graduation rates?  The lowest?  What does the \"shape\" of the distribution look like?  Are there any outliers?  "
   ]
  },
  {
   "cell_type": "code",
   "execution_count": null,
   "metadata": {
    "collapsed": true
   },
   "outputs": [],
   "source": []
  },
  {
   "cell_type": "markdown",
   "metadata": {},
   "source": [
    "__Question 2:__ Describe the distribution of federal loan recipient percentages among large universities in Texas.   Which universities have the highest percentages of their student bodies receiving federal loans?  Which have the lowest?  What does the \"shape\" of the distribution look like?  Are there any outliers?"
   ]
  },
  {
   "cell_type": "code",
   "execution_count": null,
   "metadata": {
    "collapsed": true
   },
   "outputs": [],
   "source": []
  },
  {
   "cell_type": "markdown",
   "metadata": {},
   "source": [
    "__Question 3:__ Analyze the (potential) relationship between the six-year graduation rates of colleges and the median earnings of graduates 10 years after graduation.  What relationship do you observe?  Is this relationship meaningful, in your opinion, or is it \"spurious\" - meaning that there is something else that we aren't accounting for that actually explains the relationship?  "
   ]
  },
  {
   "cell_type": "code",
   "execution_count": null,
   "metadata": {
    "collapsed": true
   },
   "outputs": [],
   "source": []
  },
  {
   "cell_type": "markdown",
   "metadata": {},
   "source": [
    "__Question 4:__ Choose two of the quantitative variables in the dataset, and examine whether they appear to be interrelated.  You can't choose the same two from Question 3, of course, though you could select one or the other.  \n",
    "\n",
    "What relationships do you observe?  In your opinion, what factors might explain the observed relationship?  Is there anything else you think should be accounted for?  "
   ]
  },
  {
   "cell_type": "code",
   "execution_count": null,
   "metadata": {
    "collapsed": true
   },
   "outputs": [],
   "source": []
  },
  {
   "cell_type": "markdown",
   "metadata": {},
   "source": [
    "__Question 5:__ Certainly, there are many other variables that we could include in such an analysis, but are not found in the dataset.  Think of two other variables or pieces of information that you'd want to include in an analysis of colleges in Texas.  What are these variables?  What types of analyses might you do with them?  "
   ]
  },
  {
   "cell_type": "code",
   "execution_count": null,
   "metadata": {
    "collapsed": true
   },
   "outputs": [],
   "source": []
  },
  {
   "cell_type": "markdown",
   "metadata": {},
   "source": [
    "### Part II: 2014 NFL quarterback statistics\n",
    "\n",
    "As we've discussed in class, sports is one of the most popular domains for public consumption and analysis of data.  The statistics of teams and athletes are meticulously recorded in many instances, and heavily scrutinized.  In the second part of this take-home examination, you'll be working with a dataset of NFL quarterback statistics from 2014 for quarterbacks who played in at least 10 games.  \n",
    "\n",
    "The dataset is found at http://personal.tcu.edu/kylewalker/data/qb.csv, and has the following columns:  \n",
    "\n",
    "* `Name`: The name of the quarterback\n",
    "* `Team`: An abbreviation for the quarterback's team\n",
    "* `G`: Games played in the 2014 regular season\n",
    "* `QBRat`: The quarterback rating for the season\n",
    "* `Comp`: The number of passes completed\n",
    "* `Att`: The number of passes attempted\n",
    "* `Pct`: The pass completion percentage\n",
    "* `PassYds`: The number of passing yards during the regular season\n",
    "* `YdsPerG`: The average number of passing yards per game\n",
    "* `YdsPerA`: The average number of passing yards per attempt\n",
    "* `TD`: The number of passing touchdowns\n",
    "* `Int`: The number of interceptions thrown\n",
    "* `Rush`: The number of rushing attempts\n",
    "* `RushYds` The number of rushing yards during the regular season\n",
    "* `RushYdsG`: The average number of rushing yards per game\n",
    "* `RushAvg`: The average number of rushing yards per carry\n",
    "* `RushTD`: The number of rushing touchdowns\n",
    "* `Sack`: The number of times the quarterback was sacked\n",
    "* `YdsL`: The number of yards lost due to sacks\n",
    "* `Fum`: The number of fumbles\n",
    "* `FumL`: The number of fumbles lost\n",
    "\n",
    "If you are unfamiliar with football rules and need assistance with any of the terminology, please let me know.  \n",
    "\n",
    "---\n",
    "\n",
    "__Question 6:__ Chart the distribution of NFL quarterback ratings.  Who were the highest-rated quarterbacks?  Who were the lowest?  What does the distribution of quarterback ratings look like?  "
   ]
  },
  {
   "cell_type": "code",
   "execution_count": null,
   "metadata": {
    "collapsed": true
   },
   "outputs": [],
   "source": []
  },
  {
   "cell_type": "markdown",
   "metadata": {},
   "source": [
    "__Question 7:__ Your friend Taylor McRube says boldly, \"Quarterbacks who rush the ball more throw more interceptions; it is a proven fact.  Mobile quarterbacks are simply much more error-prone.\"  Is Taylor correct or incorrect in this statement?  "
   ]
  },
  {
   "cell_type": "code",
   "execution_count": null,
   "metadata": {
    "collapsed": true
   },
   "outputs": [],
   "source": []
  },
  {
   "cell_type": "markdown",
   "metadata": {
    "collapsed": true
   },
   "source": [
    "__Question 8:__ The NFL quarterback rating is a composite of quarterbacks' statistical performances, including information on completion percentage, passing yards per attempt, touchdown passes, and interceptions.  You can read more here: https://en.wikipedia.org/wiki/Passer_rating#NFL_formula.  \n",
    "\n",
    "Based on the data provided, which of these four variables in your dataset (completion percentage, passing yards per attempt, touchdown passes thrown, and interceptions thrown) appears to be most strongly correlated to the quarterback's passer rating?  _Hint_: if you are feeling ambitious, this can all be done in a `for` loop!"
   ]
  },
  {
   "cell_type": "code",
   "execution_count": null,
   "metadata": {
    "collapsed": true
   },
   "outputs": [],
   "source": []
  },
  {
   "cell_type": "markdown",
   "metadata": {
    "collapsed": true
   },
   "source": [
    "__Question 9:__ Now, you pick!  Conduct an exploratory data analysis of any column in the dataset (with the exception of quarterback rating, which you've already done).  Options for analysis include an examination of univariate characteristics (e.g. the data distribution) and multivariate relationships with other columns.  "
   ]
  },
  {
   "cell_type": "code",
   "execution_count": null,
   "metadata": {
    "collapsed": true
   },
   "outputs": [],
   "source": []
  },
  {
   "cell_type": "markdown",
   "metadata": {},
   "source": [
    "__Question 10:__ Understandably, our analysis here is limited to the techniques we've learned to this point in the course as well as the available data.  If you could extend your analysis of NFL quarterbacks - either with additional data or different ways of analyzing the data - what would you want to do?  "
   ]
  },
  {
   "cell_type": "code",
   "execution_count": null,
   "metadata": {
    "collapsed": true
   },
   "outputs": [],
   "source": []
  },
  {
   "cell_type": "code",
   "execution_count": null,
   "metadata": {
    "collapsed": true
   },
   "outputs": [],
   "source": []
  }
 ],
 "metadata": {
  "kernelspec": {
   "display_name": "Python 3",
   "language": "python",
   "name": "python3"
  },
  "language_info": {
   "codemirror_mode": {
    "name": "ipython",
    "version": 3
   },
   "file_extension": ".py",
   "mimetype": "text/x-python",
   "name": "python",
   "nbconvert_exporter": "python",
   "pygments_lexer": "ipython3",
   "version": "3.4.3"
  }
 },
 "nbformat": 4,
 "nbformat_minor": 0
}
