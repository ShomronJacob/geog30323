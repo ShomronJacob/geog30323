{
 "cells": [
  {
   "cell_type": "markdown",
   "metadata": {},
   "source": [
    "### Interact examples\n",
    "\n",
    "In going over Assignment 10 with you all in class, I got the impression that we could all use a little more clarity on how the `interact` function works to create interactive widgets in the Jupyter notebook.  I've included some simplified examples for you that will hopefully clarify some things.  A note: you must run the cells in this notebook to get the widgets to show up.  \n",
    "\n",
    "Let's start with a very basic function definiton - going all the way back to the start of the semester.  I'll define a function here named `divide_by_two` that takes a number as input, and prints that number divided by two.  "
   ]
  },
  {
   "cell_type": "code",
   "execution_count": 1,
   "metadata": {
    "collapsed": true
   },
   "outputs": [],
   "source": [
    "def divide_by_two(number): \n",
    "    print(number / 2)"
   ]
  },
  {
   "cell_type": "markdown",
   "metadata": {},
   "source": [
    "We can then call the function: "
   ]
  },
  {
   "cell_type": "code",
   "execution_count": 2,
   "metadata": {
    "collapsed": false
   },
   "outputs": [
    {
     "name": "stdout",
     "output_type": "stream",
     "text": [
      "44.0\n"
     ]
    }
   ],
   "source": [
    "divide_by_two(88)"
   ]
  },
  {
   "cell_type": "markdown",
   "metadata": {},
   "source": [
    "The `interact` function extends any of our functions like this to turn them into graphical interfaces.  As I mentioned in Assignment 10, `interact` will interpret the following:\n",
    "\n",
    "* A list, tuple, or dictionary of values as a drop-down menu;\n",
    "* A string value as a text box;\n",
    "* A True/False value as a check box;\n",
    "* A an integer or float - or tuple of integers or floats - as a slider.\n",
    "\n",
    "As such, `interact` works as follows.  It takes a series of arguments: the first argument should be the function name, and the subsequent arguments should be the function parameters, with default values.  The type of widget you get back is dependent upon these default values.  \n",
    "\n",
    "Let's try this out.  I'll interact with `divide_by_two`, and set the default value to 10.  I'll get back a slider that I can move around and print out a different result as I move it.  "
   ]
  },
  {
   "cell_type": "code",
   "execution_count": 4,
   "metadata": {
    "collapsed": false
   },
   "outputs": [
    {
     "name": "stdout",
     "output_type": "stream",
     "text": [
      "4.5\n"
     ]
    }
   ],
   "source": [
    "from ipywidgets import interact\n",
    "\n",
    "interact(divide_by_two, number = 10)"
   ]
  },
  {
   "cell_type": "markdown",
   "metadata": {},
   "source": [
    "The widget defaults to a range around my default value of 10 of 20 in either direction, with a step size of 0.5.  I can set these explicitly if I want, however, by passing a tuple of three integers or floats, where the first value is the minimum, the second is the maximum, and the third is the step size.  "
   ]
  },
  {
   "cell_type": "code",
   "execution_count": 6,
   "metadata": {
    "collapsed": false
   },
   "outputs": [
    {
     "name": "stdout",
     "output_type": "stream",
     "text": [
      "32.2\n"
     ]
    }
   ],
   "source": [
    "interact(divide_by_two, number = (0.0, 100.0, 0.1))"
   ]
  },
  {
   "cell_type": "markdown",
   "metadata": {},
   "source": [
    "`interact` also works with strings, which you've had some practice with in Assignment 10.  For example, we wrote this simple function in Assignment 3: "
   ]
  },
  {
   "cell_type": "code",
   "execution_count": 7,
   "metadata": {
    "collapsed": false
   },
   "outputs": [
    {
     "data": {
      "text/plain": [
       "'Texas Christian University'"
      ]
     },
     "execution_count": 7,
     "metadata": {},
     "output_type": "execute_result"
    }
   ],
   "source": [
    "def add_uni(uni_name): \n",
    "    return uni_name + \" University\"\n",
    "\n",
    "add_uni('Texas Christian')"
   ]
  },
  {
   "cell_type": "markdown",
   "metadata": {},
   "source": [
    "As with our `divide_by_two` function, we can make our `add_uni` function interactive by wrapping it in `interact`.  Setting the default value of `uni_name` as a string gives us back a text box, inside which we can type anything we want and add `' University'` to it.  Try it out:  "
   ]
  },
  {
   "cell_type": "code",
   "execution_count": 8,
   "metadata": {
    "collapsed": false
   },
   "outputs": [
    {
     "data": {
      "text/plain": [
       "'Baylor University'"
      ]
     },
     "metadata": {},
     "output_type": "display_data"
    }
   ],
   "source": [
    "interact(add_uni, uni_name = 'Texas Christian')"
   ]
  },
  {
   "cell_type": "markdown",
   "metadata": {},
   "source": [
    "Setting the default value of `uni_name` as a list, tuple, or dictionary gives us a drop-down menu of choices instead of a text box.  Try it out: "
   ]
  },
  {
   "cell_type": "code",
   "execution_count": 19,
   "metadata": {
    "collapsed": false
   },
   "outputs": [
    {
     "data": {
      "text/plain": [
       "'Texas Christian University'"
      ]
     },
     "metadata": {},
     "output_type": "display_data"
    },
    {
     "data": {
      "text/plain": [
       "<function __main__.add_uni>"
      ]
     },
     "execution_count": 19,
     "metadata": {},
     "output_type": "execute_result"
    }
   ],
   "source": [
    "universities = ['Texas Christian', 'Baylor', 'Rice', 'Southern Methodist']\n",
    "\n",
    "interact(add_uni, uni_name = universities)"
   ]
  },
  {
   "cell_type": "markdown",
   "metadata": {},
   "source": [
    "Interacting with a boolean function gives us a check box than can turn certain features on and off.  For example, let's get a little more complicated here.  I'm going to write a function that displays either the TCU or Baylor websites depending on whether I check or uncheck the \"TCU\" check box.  Try this out: "
   ]
  },
  {
   "cell_type": "code",
   "execution_count": 29,
   "metadata": {
    "collapsed": true
   },
   "outputs": [],
   "source": [
    "from IPython.display import IFrame\n",
    "\n",
    "def tcu_or_baylor(TCU = True): \n",
    "    if TCU == True:  \n",
    "        return IFrame('http://www.tcu.edu/', width = '100%', height = 550)\n",
    "    else: \n",
    "        return IFrame('http://www.baylor.edu/', width = '100%', height = 550)\n"
   ]
  },
  {
   "cell_type": "code",
   "execution_count": 32,
   "metadata": {
    "collapsed": false
   },
   "outputs": [
    {
     "data": {
      "text/html": [
       "\n",
       "        <iframe\n",
       "            width=\"100%\"\n",
       "            height=\"550\"\n",
       "            src=\"http://www.tcu.edu/\"\n",
       "            frameborder=\"0\"\n",
       "            allowfullscreen\n",
       "        ></iframe>\n",
       "        "
      ],
      "text/plain": [
       "<IPython.lib.display.IFrame at 0x4e2dac8>"
      ]
     },
     "metadata": {},
     "output_type": "display_data"
    }
   ],
   "source": [
    "interact(tcu_or_baylor, TCU = True)"
   ]
  },
  {
   "cell_type": "code",
   "execution_count": null,
   "metadata": {
    "collapsed": false
   },
   "outputs": [],
   "source": []
  }
 ],
 "metadata": {
  "kernelspec": {
   "display_name": "Python 3",
   "language": "python",
   "name": "python3"
  },
  "language_info": {
   "codemirror_mode": {
    "name": "ipython",
    "version": 3
   },
   "file_extension": ".py",
   "mimetype": "text/x-python",
   "name": "python",
   "nbconvert_exporter": "python",
   "pygments_lexer": "ipython3",
   "version": "3.4.3"
  }
 },
 "nbformat": 4,
 "nbformat_minor": 0
}
